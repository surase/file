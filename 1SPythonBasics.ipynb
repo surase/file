{
  "nbformat": 4,
  "nbformat_minor": 0,
  "metadata": {
    "colab": {
      "provenance": []
    },
    "kernelspec": {
      "name": "python3",
      "display_name": "Python 3"
    },
    "language_info": {
      "name": "python"
    }
  },
  "cells": [
    {
      "cell_type": "code",
      "execution_count": 125,
      "metadata": {
        "colab": {
          "base_uri": "https://localhost:8080/"
        },
        "id": "_uLGGwfOslyu",
        "outputId": "3815303d-7c2f-4158-9dba-40c507dfe38a"
      },
      "outputs": [
        {
          "output_type": "stream",
          "name": "stdout",
          "text": [
            "\"Welcome to ExcelR!\"\n"
          ]
        }
      ],
      "source": [
        "print(\"\\\"Welcome to ExcelR!\\\"\")  # \"\\.......\\\" is used to print text in double quote(\" \")"
      ]
    },
    {
      "cell_type": "code",
      "source": [
        "\"hello\""
      ],
      "metadata": {
        "colab": {
          "base_uri": "https://localhost:8080/",
          "height": 35
        },
        "id": "wJFk2mHztbF9",
        "outputId": "c593eff8-679c-46f3-9629-005be2ae6357"
      },
      "execution_count": 126,
      "outputs": [
        {
          "output_type": "execute_result",
          "data": {
            "text/plain": [
              "'hello'"
            ],
            "application/vnd.google.colaboratory.intrinsic+json": {
              "type": "string"
            }
          },
          "metadata": {},
          "execution_count": 126
        }
      ]
    },
    {
      "cell_type": "code",
      "source": [
        "120/12*2-4"
      ],
      "metadata": {
        "colab": {
          "base_uri": "https://localhost:8080/"
        },
        "id": "nxyvkVk_u7aK",
        "outputId": "a55e5a96-ff4a-49ac-e9fe-46e26b140e19"
      },
      "execution_count": 127,
      "outputs": [
        {
          "output_type": "execute_result",
          "data": {
            "text/plain": [
              "16.0"
            ]
          },
          "metadata": {},
          "execution_count": 127
        }
      ]
    },
    {
      "cell_type": "code",
      "source": [
        "(5-2)*10"
      ],
      "metadata": {
        "colab": {
          "base_uri": "https://localhost:8080/"
        },
        "id": "ayPhTdPkvBOc",
        "outputId": "01051042-58a5-4a16-8467-988e92c789ec"
      },
      "execution_count": 128,
      "outputs": [
        {
          "output_type": "execute_result",
          "data": {
            "text/plain": [
              "30"
            ]
          },
          "metadata": {},
          "execution_count": 128
        }
      ]
    },
    {
      "cell_type": "code",
      "source": [
        "marks=80   #marks is variable name\n",
        "marks      #calling marks for printing marks value\n"
      ],
      "metadata": {
        "colab": {
          "base_uri": "https://localhost:8080/"
        },
        "id": "y-zNXEEqvXZ_",
        "outputId": "03e453a0-c5ec-4fef-ddd9-481775348413"
      },
      "execution_count": 129,
      "outputs": [
        {
          "output_type": "execute_result",
          "data": {
            "text/plain": [
              "80"
            ]
          },
          "metadata": {},
          "execution_count": 129
        }
      ]
    },
    {
      "cell_type": "code",
      "source": [
        "type(marks)   #type() function is used to check datatype"
      ],
      "metadata": {
        "colab": {
          "base_uri": "https://localhost:8080/"
        },
        "id": "ATSnCbp4vdPc",
        "outputId": "1e2173d4-ba26-416d-8fee-d40231106e41"
      },
      "execution_count": 130,
      "outputs": [
        {
          "output_type": "execute_result",
          "data": {
            "text/plain": [
              "int"
            ]
          },
          "metadata": {},
          "execution_count": 130
        }
      ]
    },
    {
      "cell_type": "code",
      "source": [
        "5**4      #is concider the 5 raised to 4. it is a power function (5^4)"
      ],
      "metadata": {
        "colab": {
          "base_uri": "https://localhost:8080/"
        },
        "id": "plPdo2ahv9Di",
        "outputId": "4ca060f4-6314-48e0-e52d-a5b54015c017"
      },
      "execution_count": 131,
      "outputs": [
        {
          "output_type": "execute_result",
          "data": {
            "text/plain": [
              "625"
            ]
          },
          "metadata": {},
          "execution_count": 131
        }
      ]
    },
    {
      "cell_type": "code",
      "source": [
        "price=50.5\n",
        "type(price)  #only shwos output of last\n",
        "price"
      ],
      "metadata": {
        "colab": {
          "base_uri": "https://localhost:8080/"
        },
        "id": "iZQYvF82wHbm",
        "outputId": "e6a36f0b-710b-40c4-f8d6-0f4eb5d3d440"
      },
      "execution_count": 132,
      "outputs": [
        {
          "output_type": "execute_result",
          "data": {
            "text/plain": [
              "50.5"
            ]
          },
          "metadata": {},
          "execution_count": 132
        }
      ]
    },
    {
      "cell_type": "code",
      "source": [
        "price=50.5\n",
        "print(price)  #without use print() function the cell only show the outut of the last line\n",
        "\n",
        "type(price)"
      ],
      "metadata": {
        "colab": {
          "base_uri": "https://localhost:8080/"
        },
        "id": "gFkfJ6W8w1MM",
        "outputId": "82d148ac-b9ce-4be0-c9fa-193d07406bcb"
      },
      "execution_count": 133,
      "outputs": [
        {
          "output_type": "stream",
          "name": "stdout",
          "text": [
            "50.5\n"
          ]
        },
        {
          "output_type": "execute_result",
          "data": {
            "text/plain": [
              "float"
            ]
          },
          "metadata": {},
          "execution_count": 133
        }
      ]
    },
    {
      "cell_type": "code",
      "source": [
        "name=\"pooja\"\n",
        "type(name)"
      ],
      "metadata": {
        "colab": {
          "base_uri": "https://localhost:8080/"
        },
        "id": "0xKlfHBxxn9l",
        "outputId": "e6b28a0a-b243-42d4-e5d3-2c3a50dd7ebb"
      },
      "execution_count": 134,
      "outputs": [
        {
          "output_type": "execute_result",
          "data": {
            "text/plain": [
              "str"
            ]
          },
          "metadata": {},
          "execution_count": 134
        }
      ]
    },
    {
      "cell_type": "code",
      "source": [
        "dir(str)  #"
      ],
      "metadata": {
        "colab": {
          "base_uri": "https://localhost:8080/"
        },
        "id": "ciMsxakLxyDm",
        "outputId": "9b1052e2-c232-4437-e750-956bc57741de"
      },
      "execution_count": 135,
      "outputs": [
        {
          "output_type": "execute_result",
          "data": {
            "text/plain": [
              "['__add__',\n",
              " '__class__',\n",
              " '__contains__',\n",
              " '__delattr__',\n",
              " '__dir__',\n",
              " '__doc__',\n",
              " '__eq__',\n",
              " '__format__',\n",
              " '__ge__',\n",
              " '__getattribute__',\n",
              " '__getitem__',\n",
              " '__getnewargs__',\n",
              " '__gt__',\n",
              " '__hash__',\n",
              " '__init__',\n",
              " '__init_subclass__',\n",
              " '__iter__',\n",
              " '__le__',\n",
              " '__len__',\n",
              " '__lt__',\n",
              " '__mod__',\n",
              " '__mul__',\n",
              " '__ne__',\n",
              " '__new__',\n",
              " '__reduce__',\n",
              " '__reduce_ex__',\n",
              " '__repr__',\n",
              " '__rmod__',\n",
              " '__rmul__',\n",
              " '__setattr__',\n",
              " '__sizeof__',\n",
              " '__str__',\n",
              " '__subclasshook__',\n",
              " 'capitalize',\n",
              " 'casefold',\n",
              " 'center',\n",
              " 'count',\n",
              " 'encode',\n",
              " 'endswith',\n",
              " 'expandtabs',\n",
              " 'find',\n",
              " 'format',\n",
              " 'format_map',\n",
              " 'index',\n",
              " 'isalnum',\n",
              " 'isalpha',\n",
              " 'isascii',\n",
              " 'isdecimal',\n",
              " 'isdigit',\n",
              " 'isidentifier',\n",
              " 'islower',\n",
              " 'isnumeric',\n",
              " 'isprintable',\n",
              " 'isspace',\n",
              " 'istitle',\n",
              " 'isupper',\n",
              " 'join',\n",
              " 'ljust',\n",
              " 'lower',\n",
              " 'lstrip',\n",
              " 'maketrans',\n",
              " 'partition',\n",
              " 'removeprefix',\n",
              " 'removesuffix',\n",
              " 'replace',\n",
              " 'rfind',\n",
              " 'rindex',\n",
              " 'rjust',\n",
              " 'rpartition',\n",
              " 'rsplit',\n",
              " 'rstrip',\n",
              " 'split',\n",
              " 'splitlines',\n",
              " 'startswith',\n",
              " 'strip',\n",
              " 'swapcase',\n",
              " 'title',\n",
              " 'translate',\n",
              " 'upper',\n",
              " 'zfill']"
            ]
          },
          "metadata": {},
          "execution_count": 135
        }
      ]
    },
    {
      "cell_type": "code",
      "source": [
        "str1=\"welcome to Data Science\"\n",
        "str1.capitalize()  #only first letter capital"
      ],
      "metadata": {
        "colab": {
          "base_uri": "https://localhost:8080/",
          "height": 35
        },
        "id": "2d1T0y3Ry0O2",
        "outputId": "e222d5d3-adbe-430a-a4f1-1b8bbb44a8ee"
      },
      "execution_count": 136,
      "outputs": [
        {
          "output_type": "execute_result",
          "data": {
            "text/plain": [
              "'Welcome to data science'"
            ],
            "application/vnd.google.colaboratory.intrinsic+json": {
              "type": "string"
            }
          },
          "metadata": {},
          "execution_count": 136
        }
      ]
    },
    {
      "cell_type": "code",
      "source": [
        "str1"
      ],
      "metadata": {
        "colab": {
          "base_uri": "https://localhost:8080/",
          "height": 35
        },
        "id": "A3mgiCIPzEbf",
        "outputId": "e5022293-1cce-414f-fdec-299fa3c304ea"
      },
      "execution_count": 137,
      "outputs": [
        {
          "output_type": "execute_result",
          "data": {
            "text/plain": [
              "'welcome to Data Science'"
            ],
            "application/vnd.google.colaboratory.intrinsic+json": {
              "type": "string"
            }
          },
          "metadata": {},
          "execution_count": 137
        }
      ]
    },
    {
      "cell_type": "code",
      "source": [
        "str1.upper() #is change the whole string in capital letters"
      ],
      "metadata": {
        "colab": {
          "base_uri": "https://localhost:8080/",
          "height": 35
        },
        "id": "BORjIbfEzJEg",
        "outputId": "338b0baf-f8ac-453b-b1d9-ceb38ba42bcb"
      },
      "execution_count": 138,
      "outputs": [
        {
          "output_type": "execute_result",
          "data": {
            "text/plain": [
              "'WELCOME TO DATA SCIENCE'"
            ],
            "application/vnd.google.colaboratory.intrinsic+json": {
              "type": "string"
            }
          },
          "metadata": {},
          "execution_count": 138
        }
      ]
    },
    {
      "cell_type": "code",
      "source": [
        "str1.lower()  #its change the whole string in lower case"
      ],
      "metadata": {
        "colab": {
          "base_uri": "https://localhost:8080/",
          "height": 35
        },
        "id": "d66tavIHzza3",
        "outputId": "3f246e01-b307-4c20-9555-f105c4189e6d"
      },
      "execution_count": 139,
      "outputs": [
        {
          "output_type": "execute_result",
          "data": {
            "text/plain": [
              "'welcome to data science'"
            ],
            "application/vnd.google.colaboratory.intrinsic+json": {
              "type": "string"
            }
          },
          "metadata": {},
          "execution_count": 139
        }
      ]
    },
    {
      "cell_type": "code",
      "source": [
        "str1.title()  #its make a title means its capital every word first letter"
      ],
      "metadata": {
        "colab": {
          "base_uri": "https://localhost:8080/",
          "height": 35
        },
        "id": "uGMTwhl4z6G3",
        "outputId": "7551c965-ed88-4103-c4dd-7976825d6c65"
      },
      "execution_count": 140,
      "outputs": [
        {
          "output_type": "execute_result",
          "data": {
            "text/plain": [
              "'Welcome To Data Science'"
            ],
            "application/vnd.google.colaboratory.intrinsic+json": {
              "type": "string"
            }
          },
          "metadata": {},
          "execution_count": 140
        }
      ]
    },
    {
      "cell_type": "code",
      "source": [
        "food=\"BaNaNa\"\n",
        "name=\"pOOJA\"\n",
        "print(food.swapcase())  # swapcase() function change the case of every letter .means small letter to capital and capital to small. ex-mSdHOnI to MsDhoNi\n",
        "name.swapcase()"
      ],
      "metadata": {
        "colab": {
          "base_uri": "https://localhost:8080/",
          "height": 52
        },
        "id": "aJFCX6PF0Caf",
        "outputId": "69b736f6-38ec-47f1-cab3-281514121240"
      },
      "execution_count": 141,
      "outputs": [
        {
          "output_type": "stream",
          "name": "stdout",
          "text": [
            "bAnAnA\n"
          ]
        },
        {
          "output_type": "execute_result",
          "data": {
            "text/plain": [
              "'Pooja'"
            ],
            "application/vnd.google.colaboratory.intrinsic+json": {
              "type": "string"
            }
          },
          "metadata": {},
          "execution_count": 141
        }
      ]
    },
    {
      "cell_type": "code",
      "source": [
        "s1=\"My name is Pooja.\"\n",
        "print(s1.split())  # list of strings is  created\n",
        "s2=\"Mumbai-Pune-Mumbai\"\n",
        "s2.split(\"-\")   #its have gave where from  you want separate."
      ],
      "metadata": {
        "colab": {
          "base_uri": "https://localhost:8080/"
        },
        "id": "L3gXfcTD0hum",
        "outputId": "697a5d89-610a-4ff4-cc96-e5a3b354731c"
      },
      "execution_count": 142,
      "outputs": [
        {
          "output_type": "stream",
          "name": "stdout",
          "text": [
            "['My', 'name', 'is', 'Pooja.']\n"
          ]
        },
        {
          "output_type": "execute_result",
          "data": {
            "text/plain": [
              "['Mumbai', 'Pune', 'Mumbai']"
            ]
          },
          "metadata": {},
          "execution_count": 142
        }
      ]
    },
    {
      "cell_type": "code",
      "source": [
        "s1.replace(\"Pooja\",\"pooju\") #its replace the word with what u want. ex- im loki from asguard to im srk from asguard. it replace loki word to srk"
      ],
      "metadata": {
        "colab": {
          "base_uri": "https://localhost:8080/",
          "height": 35
        },
        "id": "bBPHZdUgEmA-",
        "outputId": "d3d7eb3d-3855-495a-bd4b-3e2323ea2aa6"
      },
      "execution_count": 143,
      "outputs": [
        {
          "output_type": "execute_result",
          "data": {
            "text/plain": [
              "'My name is pooju.'"
            ],
            "application/vnd.google.colaboratory.intrinsic+json": {
              "type": "string"
            }
          },
          "metadata": {},
          "execution_count": 143
        }
      ]
    },
    {
      "cell_type": "code",
      "source": [
        "mail=\"pooja@gmail.com\"\n",
        "mail.split(\"@\")"
      ],
      "metadata": {
        "colab": {
          "base_uri": "https://localhost:8080/"
        },
        "id": "CZV5wSzL1iFV",
        "outputId": "788e185f-eba2-4080-9196-a9ffc5a7cd96"
      },
      "execution_count": 144,
      "outputs": [
        {
          "output_type": "execute_result",
          "data": {
            "text/plain": [
              "['pooja', 'gmail.com']"
            ]
          },
          "metadata": {},
          "execution_count": 144
        }
      ]
    },
    {
      "cell_type": "code",
      "source": [
        "s1"
      ],
      "metadata": {
        "id": "qRrN8HvF14Av",
        "colab": {
          "base_uri": "https://localhost:8080/",
          "height": 35
        },
        "outputId": "e9fce341-9c84-47f4-dff8-2bcf98599289"
      },
      "execution_count": 145,
      "outputs": [
        {
          "output_type": "execute_result",
          "data": {
            "text/plain": [
              "'My name is Pooja.'"
            ],
            "application/vnd.google.colaboratory.intrinsic+json": {
              "type": "string"
            }
          },
          "metadata": {},
          "execution_count": 145
        }
      ]
    },
    {
      "cell_type": "code",
      "source": [
        "s1.replace(\"Pooja\",\"sapna\")  #  i have error that fun"
      ],
      "metadata": {
        "colab": {
          "base_uri": "https://localhost:8080/",
          "height": 35
        },
        "id": "HIVMhh0E1-0O",
        "outputId": "a7b69562-32cc-4958-c6e8-9d3b6039e127"
      },
      "execution_count": 146,
      "outputs": [
        {
          "output_type": "execute_result",
          "data": {
            "text/plain": [
              "'My name is sapna.'"
            ],
            "application/vnd.google.colaboratory.intrinsic+json": {
              "type": "string"
            }
          },
          "metadata": {},
          "execution_count": 146
        }
      ]
    },
    {
      "cell_type": "code",
      "source": [
        "# single line comment\n",
        "'''\n",
        "multiline comment\n",
        "'''"
      ],
      "metadata": {
        "colab": {
          "base_uri": "https://localhost:8080/",
          "height": 35
        },
        "id": "1zCDbtaG21Nn",
        "outputId": "fb82898e-70d9-4e95-c1e2-9e4ba9760a12"
      },
      "execution_count": 147,
      "outputs": [
        {
          "output_type": "execute_result",
          "data": {
            "text/plain": [
              "'\\nmultiline comment\\n'"
            ],
            "application/vnd.google.colaboratory.intrinsic+json": {
              "type": "string"
            }
          },
          "metadata": {},
          "execution_count": 147
        }
      ]
    },
    {
      "cell_type": "code",
      "source": [
        "city=\"satara\"\n",
        "city.count(\"a\")"
      ],
      "metadata": {
        "colab": {
          "base_uri": "https://localhost:8080/"
        },
        "id": "pVx3Ya025gXp",
        "outputId": "8e2502e0-b7cc-4141-9a0a-efd2ae58be7b"
      },
      "execution_count": 148,
      "outputs": [
        {
          "output_type": "execute_result",
          "data": {
            "text/plain": [
              "3"
            ]
          },
          "metadata": {},
          "execution_count": 148
        }
      ]
    },
    {
      "cell_type": "code",
      "source": [
        "\"Satara\".count(\"a\")"
      ],
      "metadata": {
        "colab": {
          "base_uri": "https://localhost:8080/"
        },
        "id": "W6SjmlI564sZ",
        "outputId": "f0616211-0c9a-4b54-e0af-018b7ed222d0"
      },
      "execution_count": 149,
      "outputs": [
        {
          "output_type": "execute_result",
          "data": {
            "text/plain": [
              "3"
            ]
          },
          "metadata": {},
          "execution_count": 149
        }
      ]
    },
    {
      "cell_type": "code",
      "source": [
        "name=\"Raj\"\n",
        "name * 4  #its print the above string 4 times"
      ],
      "metadata": {
        "colab": {
          "base_uri": "https://localhost:8080/",
          "height": 35
        },
        "id": "LPakVTK27CzL",
        "outputId": "85d1d181-d20e-4bf8-c646-3cfeeb7dbb18"
      },
      "execution_count": 150,
      "outputs": [
        {
          "output_type": "execute_result",
          "data": {
            "text/plain": [
              "'RajRajRajRaj'"
            ],
            "application/vnd.google.colaboratory.intrinsic+json": {
              "type": "string"
            }
          },
          "metadata": {},
          "execution_count": 150
        }
      ]
    },
    {
      "cell_type": "code",
      "source": [
        "n1=5\n",
        "n1*7  # 5*7=35"
      ],
      "metadata": {
        "colab": {
          "base_uri": "https://localhost:8080/"
        },
        "id": "zTbnBz1E7Yvb",
        "outputId": "73e63351-71c0-45f6-c6ed-9ce17eee9f30"
      },
      "execution_count": 151,
      "outputs": [
        {
          "output_type": "execute_result",
          "data": {
            "text/plain": [
              "35"
            ]
          },
          "metadata": {},
          "execution_count": 151
        }
      ]
    },
    {
      "cell_type": "code",
      "source": [
        "name=\"Rajesh\"\n",
        "surname=\"kulkarni\"\n",
        "name+surname  #concatenates without space"
      ],
      "metadata": {
        "colab": {
          "base_uri": "https://localhost:8080/",
          "height": 35
        },
        "id": "2kUcMFyK7eAx",
        "outputId": "60464732-0e69-47f4-f2ef-b8af8f7d60e1"
      },
      "execution_count": 152,
      "outputs": [
        {
          "output_type": "execute_result",
          "data": {
            "text/plain": [
              "'Rajeshkulkarni'"
            ],
            "application/vnd.google.colaboratory.intrinsic+json": {
              "type": "string"
            }
          },
          "metadata": {},
          "execution_count": 152
        }
      ]
    },
    {
      "cell_type": "code",
      "source": [
        "name + \" \"+surname  # concatenates with space\n",
        "\n",
        "\n"
      ],
      "metadata": {
        "colab": {
          "base_uri": "https://localhost:8080/",
          "height": 35
        },
        "id": "wSebUZubEKTq",
        "outputId": "14ed21f0-d561-4698-ec0b-6a79eb16172a"
      },
      "execution_count": 153,
      "outputs": [
        {
          "output_type": "execute_result",
          "data": {
            "text/plain": [
              "'Rajesh kulkarni'"
            ],
            "application/vnd.google.colaboratory.intrinsic+json": {
              "type": "string"
            }
          },
          "metadata": {},
          "execution_count": 153
        }
      ]
    },
    {
      "cell_type": "markdown",
      "source": [
        "***conditional statment***"
      ],
      "metadata": {
        "id": "AqmCHVtIGC8r"
      }
    },
    {
      "cell_type": "code",
      "source": [
        "## IF ELSE\n",
        "a=30\n",
        "b=50\n",
        "if a>b:\n",
        "  print(a,\"a is greater\")\n",
        "  print(\"In True block\")\n",
        "  c=a+b\n",
        "  print(c)\n",
        "else:\n",
        "    print(b,'b is greater')\n",
        "    print(\"In False block\")\n",
        "    c=a*b\n",
        "    print(c)"
      ],
      "metadata": {
        "colab": {
          "base_uri": "https://localhost:8080/"
        },
        "id": "eXDB5TfXEe9N",
        "outputId": "ac31c5ed-98d5-4bbc-fea5-2ac243d15574"
      },
      "execution_count": 154,
      "outputs": [
        {
          "output_type": "stream",
          "name": "stdout",
          "text": [
            "50 b is greater\n",
            "In False block\n",
            "1500\n"
          ]
        }
      ]
    },
    {
      "cell_type": "code",
      "source": [
        "a=200\n",
        "b=300\n",
        "if(a>b):\n",
        "  print(a,\"is greater\")\n",
        "else:\n",
        "  print(\"greater number is=\",b)\n"
      ],
      "metadata": {
        "colab": {
          "base_uri": "https://localhost:8080/"
        },
        "id": "x8qY0gOJGgU6",
        "outputId": "6d2d9266-45e7-4cc1-ffbc-586974085947"
      },
      "execution_count": 155,
      "outputs": [
        {
          "output_type": "stream",
          "name": "stdout",
          "text": [
            "greater number is= 300\n"
          ]
        }
      ]
    },
    {
      "cell_type": "code",
      "source": [
        "salary=25000\n",
        "if (salary>20000):\n",
        "   tax=0.25\n",
        "   print(\"Hello from true if\")\n",
        "else:\n",
        "  tax=0.20\n",
        "  print(\"hello from false if/else\")\n",
        "print(\"bye... outside of if block\")\n",
        "net_sal=salary-tax*salary\n",
        "print(\"net salary=\",net_sal)\n",
        "\n",
        "  #change value of salary as 15000 & execute again"
      ],
      "metadata": {
        "colab": {
          "base_uri": "https://localhost:8080/"
        },
        "id": "DPwdmxYXHIQd",
        "outputId": "775472ac-29ac-43cc-dc8c-90292d01811c"
      },
      "execution_count": 156,
      "outputs": [
        {
          "output_type": "stream",
          "name": "stdout",
          "text": [
            "Hello from true if\n",
            "bye... outside of if block\n",
            "net salary= 18750.0\n"
          ]
        }
      ]
    },
    {
      "cell_type": "code",
      "source": [
        "range(5,10)"
      ],
      "metadata": {
        "colab": {
          "base_uri": "https://localhost:8080/"
        },
        "id": "f_-anZSGM429",
        "outputId": "381867fd-0549-4516-df18-5ac39b6bfe72"
      },
      "execution_count": 157,
      "outputs": [
        {
          "output_type": "execute_result",
          "data": {
            "text/plain": [
              "range(5, 10)"
            ]
          },
          "metadata": {},
          "execution_count": 157
        }
      ]
    },
    {
      "cell_type": "markdown",
      "source": [
        "**FOR** LOOP\n"
      ],
      "metadata": {
        "id": "uZROxDpoG_o1"
      }
    },
    {
      "cell_type": "code",
      "source": [
        "\n",
        "for i in range(5,10):  # print no from 5 to 9.default increment\n",
        "   print(i)\n",
        "print(\"bye\")"
      ],
      "metadata": {
        "colab": {
          "base_uri": "https://localhost:8080/"
        },
        "id": "vKozkjK2NAci",
        "outputId": "c86703b9-7d69-428a-a82e-5f2e8c9400d1"
      },
      "execution_count": 158,
      "outputs": [
        {
          "output_type": "stream",
          "name": "stdout",
          "text": [
            "5\n",
            "6\n",
            "7\n",
            "8\n",
            "9\n",
            "bye\n"
          ]
        }
      ]
    },
    {
      "cell_type": "code",
      "source": [
        "#  print no 1 to 10\n",
        "\n",
        "\n",
        "for i in range(1,11):\n",
        "  print(i)"
      ],
      "metadata": {
        "colab": {
          "base_uri": "https://localhost:8080/"
        },
        "id": "k9n3LtYkPEbU",
        "outputId": "8613a77c-711a-4993-cdc6-01fe2e7d4f87"
      },
      "execution_count": 159,
      "outputs": [
        {
          "output_type": "stream",
          "name": "stdout",
          "text": [
            "1\n",
            "2\n",
            "3\n",
            "4\n",
            "5\n",
            "6\n",
            "7\n",
            "8\n",
            "9\n",
            "10\n"
          ]
        }
      ]
    },
    {
      "cell_type": "code",
      "source": [
        "for i in range(1,11,2): #the last parameter used for increment / decrement\n",
        "  print(i)\n",
        "for i in range(11,1,-2): # using decrement\n",
        "  print(i)"
      ],
      "metadata": {
        "colab": {
          "base_uri": "https://localhost:8080/"
        },
        "id": "VpIP3zf2pQ6S",
        "outputId": "63c2ad13-a5ad-4ae7-94b3-36f17aa11c7e"
      },
      "execution_count": 160,
      "outputs": [
        {
          "output_type": "stream",
          "name": "stdout",
          "text": [
            "1\n",
            "3\n",
            "5\n",
            "7\n",
            "9\n",
            "11\n",
            "9\n",
            "7\n",
            "5\n",
            "3\n"
          ]
        }
      ]
    },
    {
      "cell_type": "code",
      "source": [
        "# print all even number from 1 to 20\n",
        "for i in range(1,20):\n",
        "  if (i%2==0):\n",
        "    print(i)"
      ],
      "metadata": {
        "colab": {
          "base_uri": "https://localhost:8080/"
        },
        "id": "8q56H72YpJvV",
        "outputId": "f91cb61d-dbac-4a94-f827-56b33adf6754"
      },
      "execution_count": 161,
      "outputs": [
        {
          "output_type": "stream",
          "name": "stdout",
          "text": [
            "2\n",
            "4\n",
            "6\n",
            "8\n",
            "10\n",
            "12\n",
            "14\n",
            "16\n",
            "18\n"
          ]
        }
      ]
    },
    {
      "cell_type": "code",
      "source": [
        "# print all odd number from 1 to 20\n",
        "for i in range(1,20):\n",
        "  if (i%2!=0):\n",
        "    print(i)"
      ],
      "metadata": {
        "colab": {
          "base_uri": "https://localhost:8080/"
        },
        "id": "MyiMUsHapoH-",
        "outputId": "21fe47ad-1555-4fdd-dacc-76d2713f7234"
      },
      "execution_count": 162,
      "outputs": [
        {
          "output_type": "stream",
          "name": "stdout",
          "text": [
            "1\n",
            "3\n",
            "5\n",
            "7\n",
            "9\n",
            "11\n",
            "13\n",
            "15\n",
            "17\n",
            "19\n"
          ]
        }
      ]
    },
    {
      "cell_type": "markdown",
      "source": [
        "# Break **statment**"
      ],
      "metadata": {
        "id": "mLyqddZ-oP4V"
      }
    },
    {
      "cell_type": "code",
      "source": [
        "# 'break'  statment terminates the loop when condition is satisfied\n",
        "\n",
        "for i in range(1,11):\n",
        "  if i==5:\n",
        "    print(\"Same\")\n",
        "    break\n",
        "  else:\n",
        "    print(i)\n",
        "\n"
      ],
      "metadata": {
        "colab": {
          "base_uri": "https://localhost:8080/"
        },
        "id": "6sEgWdUCQGI5",
        "outputId": "a0f0c443-1c2e-4e54-e86e-29a8631559bf"
      },
      "execution_count": 163,
      "outputs": [
        {
          "output_type": "stream",
          "name": "stdout",
          "text": [
            "1\n",
            "2\n",
            "3\n",
            "4\n",
            "Same\n"
          ]
        }
      ]
    },
    {
      "cell_type": "code",
      "source": [
        "for num in range(11):  # #when we take one parameter in range it concider as a ending value\n",
        "   print(num, num*num)  # num and its squre"
      ],
      "metadata": {
        "colab": {
          "base_uri": "https://localhost:8080/"
        },
        "id": "4NCaJkZFR8cS",
        "outputId": "12bc2146-793c-4758-82e0-09c4a4d66ab9"
      },
      "execution_count": 164,
      "outputs": [
        {
          "output_type": "stream",
          "name": "stdout",
          "text": [
            "0 0\n",
            "1 1\n",
            "2 4\n",
            "3 9\n",
            "4 16\n",
            "5 25\n",
            "6 36\n",
            "7 49\n",
            "8 64\n",
            "9 81\n",
            "10 100\n"
          ]
        }
      ]
    },
    {
      "cell_type": "code",
      "source": [
        "  #  range(start,stop,step)\n",
        "for i in range(1,30,5):\n",
        "    # print(i)\n",
        "    print(i,\"@\")\n"
      ],
      "metadata": {
        "colab": {
          "base_uri": "https://localhost:8080/"
        },
        "id": "q5yZEYojUJNr",
        "outputId": "9f69481e-76fc-4231-9876-9c63ee4c04a5"
      },
      "execution_count": 165,
      "outputs": [
        {
          "output_type": "stream",
          "name": "stdout",
          "text": [
            "1 @\n",
            "6 @\n",
            "11 @\n",
            "16 @\n",
            "21 @\n",
            "26 @\n"
          ]
        }
      ]
    },
    {
      "cell_type": "code",
      "source": [
        "subject=\"Science\"\n",
        "for letter in subject:    ###it is split every letter of science word\n",
        "  print(letter)"
      ],
      "metadata": {
        "colab": {
          "base_uri": "https://localhost:8080/"
        },
        "id": "eCmCc-nEU1jx",
        "outputId": "b9116568-0de5-4242-e165-b88e4b3c603c"
      },
      "execution_count": 166,
      "outputs": [
        {
          "output_type": "stream",
          "name": "stdout",
          "text": [
            "S\n",
            "c\n",
            "i\n",
            "e\n",
            "n\n",
            "c\n",
            "e\n"
          ]
        }
      ]
    },
    {
      "cell_type": "code",
      "source": [
        "#  print name 3 times on first line ,4 times o\n",
        "#print name 3 times on first line ,4 times on 2nd line ,5 times on 3rd ,6 times on 4th line\n",
        "\n",
        "name=\"Pooja\"\n",
        "for i in range(3,7):\n",
        "  print(name*i)"
      ],
      "metadata": {
        "colab": {
          "base_uri": "https://localhost:8080/"
        },
        "id": "xOCb573yViV3",
        "outputId": "701eb82f-47ef-423b-d9f0-6d093aeb2cfe"
      },
      "execution_count": 167,
      "outputs": [
        {
          "output_type": "stream",
          "name": "stdout",
          "text": [
            "PoojaPoojaPooja\n",
            "PoojaPoojaPoojaPooja\n",
            "PoojaPoojaPoojaPoojaPooja\n",
            "PoojaPoojaPoojaPoojaPoojaPooja\n"
          ]
        }
      ]
    },
    {
      "cell_type": "code",
      "source": [
        "# print each letter of movie on separete line\n",
        "# change case of each letter (upper to small and small to upper of )\n",
        "movie=\"Drishyam\"\n",
        "for letter in movie:\n",
        "  #print(letter)\n",
        "  #print(letter.swapcase())\n",
        "  print(letter.swapcase(),end=\" \") # try upper(), lower(, \"-\"),\"#\",etc\n"
      ],
      "metadata": {
        "colab": {
          "base_uri": "https://localhost:8080/"
        },
        "id": "bO1zVLQoWuyp",
        "outputId": "c994c6b6-aa5b-4053-f9da-cff5e34146e7"
      },
      "execution_count": 168,
      "outputs": [
        {
          "output_type": "stream",
          "name": "stdout",
          "text": [
            "d R I S H Y A M "
          ]
        }
      ]
    },
    {
      "cell_type": "code",
      "source": [
        "  # print   all even and odd nu between given rang using for loop\n",
        "for i in range(1, 11):\n",
        "   if i % 2 == 0:\n",
        "      print('Even Number:', i)\n",
        "\n",
        "   else :\n",
        "     print('Odd number:', i)\n"
      ],
      "metadata": {
        "colab": {
          "base_uri": "https://localhost:8080/"
        },
        "id": "Ovy0T7TUZwQS",
        "outputId": "a8cc61ad-01a4-4578-ca3e-7e59fb5b337d"
      },
      "execution_count": 169,
      "outputs": [
        {
          "output_type": "stream",
          "name": "stdout",
          "text": [
            "Odd number: 1\n",
            "Even Number: 2\n",
            "Odd number: 3\n",
            "Even Number: 4\n",
            "Odd number: 5\n",
            "Even Number: 6\n",
            "Odd number: 7\n",
            "Even Number: 8\n",
            "Odd number: 9\n",
            "Even Number: 10\n"
          ]
        }
      ]
    },
    {
      "cell_type": "code",
      "source": [
        "# ptint all even odd number between given range using for loop\n",
        "\n",
        "print('Even number:')\n",
        "for i in range(1,11):\n",
        "  if i % 2 == 0:\n",
        "    print(i)\n",
        "\n",
        "print('Odd number:')\n",
        "for i in range(1,11):\n",
        "  if i%2!=0:  # != not equal to\n",
        "    print(i)"
      ],
      "metadata": {
        "colab": {
          "base_uri": "https://localhost:8080/"
        },
        "id": "_X0EeU9nFZX7",
        "outputId": "a2c3af6c-5f43-40d7-a3ad-cccbd3cec5b4"
      },
      "execution_count": 170,
      "outputs": [
        {
          "output_type": "stream",
          "name": "stdout",
          "text": [
            "Even number:\n",
            "2\n",
            "4\n",
            "6\n",
            "8\n",
            "10\n",
            "Odd number:\n",
            "1\n",
            "3\n",
            "5\n",
            "7\n",
            "9\n"
          ]
        }
      ]
    },
    {
      "cell_type": "code",
      "source": [
        "status1=True\n",
        "type(status1)\n",
        "status2=False\n",
        "type(status2)"
      ],
      "metadata": {
        "colab": {
          "base_uri": "https://localhost:8080/"
        },
        "id": "P5CCv7fxHdUx",
        "outputId": "ab7f101f-ad0d-4c09-f213-f5d8f48fc7b2"
      },
      "execution_count": 171,
      "outputs": [
        {
          "output_type": "execute_result",
          "data": {
            "text/plain": [
              "bool"
            ]
          },
          "metadata": {},
          "execution_count": 171
        }
      ]
    },
    {
      "cell_type": "code",
      "source": [
        "# print each letter 4 time with separetor as space\n",
        "for letter in \"Data Science\":\n",
        "  print(letter*2,end=\" \")\n",
        "\n"
      ],
      "metadata": {
        "colab": {
          "base_uri": "https://localhost:8080/"
        },
        "id": "N--Jeej-Hzww",
        "outputId": "a0f305ec-6e90-442e-e55d-a4682633a55c"
      },
      "execution_count": 172,
      "outputs": [
        {
          "output_type": "stream",
          "name": "stdout",
          "text": [
            "DD aa tt aa    SS cc ii ee nn cc ee "
          ]
        }
      ]
    },
    {
      "cell_type": "code",
      "source": [
        "len(\"My name\")"
      ],
      "metadata": {
        "colab": {
          "base_uri": "https://localhost:8080/"
        },
        "id": "8BR63xB0IYaI",
        "outputId": "133f48ef-ddbb-4a29-c009-c19a6063b487"
      },
      "execution_count": 173,
      "outputs": [
        {
          "output_type": "execute_result",
          "data": {
            "text/plain": [
              "7"
            ]
          },
          "metadata": {},
          "execution_count": 173
        }
      ]
    },
    {
      "cell_type": "code",
      "source": [
        "string=\"hello world\"\n",
        "\n",
        "for letter in string:\n",
        "  print((letter+\" \")*2,end=\"\")"
      ],
      "metadata": {
        "colab": {
          "base_uri": "https://localhost:8080/"
        },
        "id": "5Lfaj3NYJJjP",
        "outputId": "3f1d409e-63d8-413a-ea21-f4807a3f1e79"
      },
      "execution_count": 174,
      "outputs": [
        {
          "output_type": "stream",
          "name": "stdout",
          "text": [
            "h h e e l l l l o o     w w o o r r l l d d "
          ]
        }
      ]
    },
    {
      "cell_type": "code",
      "source": [
        "len(\"pooja\")"
      ],
      "metadata": {
        "colab": {
          "base_uri": "https://localhost:8080/"
        },
        "id": "0ndcAw8aK-_4",
        "outputId": "a4a18f46-c805-42b7-d8b2-206cae5527ab"
      },
      "execution_count": 175,
      "outputs": [
        {
          "output_type": "execute_result",
          "data": {
            "text/plain": [
              "5"
            ]
          },
          "metadata": {},
          "execution_count": 175
        }
      ]
    },
    {
      "cell_type": "markdown",
      "source": [
        "# DATA **STRUCTURE**"
      ],
      "metadata": {
        "id": "-R6i8zOTq64W"
      }
    },
    {
      "cell_type": "code",
      "source": [
        "# data structure :1,list\n",
        "# list are mutable.\n",
        "#create using square brackets[]\n",
        "marks=[40,55,70,60,80,85,78]\n",
        "marks\n",
        "\n"
      ],
      "metadata": {
        "colab": {
          "base_uri": "https://localhost:8080/"
        },
        "id": "QnzCOJ7rLZk_",
        "outputId": "d1b185d3-2d95-468a-bb32-ed51cc4679d5"
      },
      "execution_count": 176,
      "outputs": [
        {
          "output_type": "execute_result",
          "data": {
            "text/plain": [
              "[40, 55, 70, 60, 80, 85, 78]"
            ]
          },
          "metadata": {},
          "execution_count": 176
        }
      ]
    },
    {
      "cell_type": "code",
      "source": [
        "type(marks)"
      ],
      "metadata": {
        "colab": {
          "base_uri": "https://localhost:8080/"
        },
        "id": "CJjQrW1wiYjs",
        "outputId": "864b112a-8124-42b7-854c-1f6b75589b1c"
      },
      "execution_count": 177,
      "outputs": [
        {
          "output_type": "execute_result",
          "data": {
            "text/plain": [
              "list"
            ]
          },
          "metadata": {},
          "execution_count": 177
        }
      ]
    },
    {
      "cell_type": "code",
      "source": [
        "dir(list)"
      ],
      "metadata": {
        "colab": {
          "base_uri": "https://localhost:8080/"
        },
        "id": "iQ0OnWzsihAI",
        "outputId": "e048200b-7535-4148-e79f-e23572940cfd"
      },
      "execution_count": 178,
      "outputs": [
        {
          "output_type": "execute_result",
          "data": {
            "text/plain": [
              "['__add__',\n",
              " '__class__',\n",
              " '__class_getitem__',\n",
              " '__contains__',\n",
              " '__delattr__',\n",
              " '__delitem__',\n",
              " '__dir__',\n",
              " '__doc__',\n",
              " '__eq__',\n",
              " '__format__',\n",
              " '__ge__',\n",
              " '__getattribute__',\n",
              " '__getitem__',\n",
              " '__gt__',\n",
              " '__hash__',\n",
              " '__iadd__',\n",
              " '__imul__',\n",
              " '__init__',\n",
              " '__init_subclass__',\n",
              " '__iter__',\n",
              " '__le__',\n",
              " '__len__',\n",
              " '__lt__',\n",
              " '__mul__',\n",
              " '__ne__',\n",
              " '__new__',\n",
              " '__reduce__',\n",
              " '__reduce_ex__',\n",
              " '__repr__',\n",
              " '__reversed__',\n",
              " '__rmul__',\n",
              " '__setattr__',\n",
              " '__setitem__',\n",
              " '__sizeof__',\n",
              " '__str__',\n",
              " '__subclasshook__',\n",
              " 'append',\n",
              " 'clear',\n",
              " 'copy',\n",
              " 'count',\n",
              " 'extend',\n",
              " 'index',\n",
              " 'insert',\n",
              " 'pop',\n",
              " 'remove',\n",
              " 'reverse',\n",
              " 'sort']"
            ]
          },
          "metadata": {},
          "execution_count": 178
        }
      ]
    },
    {
      "cell_type": "code",
      "source": [
        "len(marks)"
      ],
      "metadata": {
        "colab": {
          "base_uri": "https://localhost:8080/"
        },
        "id": "aMxJPiRCi0fP",
        "outputId": "353dbe89-27a9-492a-e00f-e582826df2fd"
      },
      "execution_count": 179,
      "outputs": [
        {
          "output_type": "execute_result",
          "data": {
            "text/plain": [
              "7"
            ]
          },
          "metadata": {},
          "execution_count": 179
        }
      ]
    },
    {
      "cell_type": "code",
      "source": [
        "new_marks=sorted(marks)  # create new sorted list. original mark\n",
        "new_marks"
      ],
      "metadata": {
        "colab": {
          "base_uri": "https://localhost:8080/"
        },
        "id": "SOz40eACjIqB",
        "outputId": "aae47111-264c-4877-9ef5-e306f905949e"
      },
      "execution_count": 180,
      "outputs": [
        {
          "output_type": "execute_result",
          "data": {
            "text/plain": [
              "[40, 55, 60, 70, 78, 80, 85]"
            ]
          },
          "metadata": {},
          "execution_count": 180
        }
      ]
    },
    {
      "cell_type": "code",
      "source": [
        "marks"
      ],
      "metadata": {
        "colab": {
          "base_uri": "https://localhost:8080/"
        },
        "id": "rETQRCjaV78o",
        "outputId": "05f9a854-65d6-493a-eacf-80e17780e584"
      },
      "execution_count": 181,
      "outputs": [
        {
          "output_type": "execute_result",
          "data": {
            "text/plain": [
              "[40, 55, 70, 60, 80, 85, 78]"
            ]
          },
          "metadata": {},
          "execution_count": 181
        }
      ]
    },
    {
      "cell_type": "code",
      "source": [
        "marks.sort()  # original list is sorted in ascending order by default\n",
        "marks\n"
      ],
      "metadata": {
        "id": "skXdeByhjsPw",
        "colab": {
          "base_uri": "https://localhost:8080/"
        },
        "outputId": "34be1d67-63c0-4772-9b4f-25b1f2deb5de"
      },
      "execution_count": 182,
      "outputs": [
        {
          "output_type": "execute_result",
          "data": {
            "text/plain": [
              "[40, 55, 60, 70, 78, 80, 85]"
            ]
          },
          "metadata": {},
          "execution_count": 182
        }
      ]
    },
    {
      "cell_type": "code",
      "source": [
        "marks.append(25)  # append wiil add element in the last only\n",
        "marks"
      ],
      "metadata": {
        "colab": {
          "base_uri": "https://localhost:8080/"
        },
        "id": "J-_vfsBXRexI",
        "outputId": "4a6821d0-a45f-4e6d-ebf5-89f4ab81716e"
      },
      "execution_count": 183,
      "outputs": [
        {
          "output_type": "execute_result",
          "data": {
            "text/plain": [
              "[40, 55, 60, 70, 78, 80, 85, 25]"
            ]
          },
          "metadata": {},
          "execution_count": 183
        }
      ]
    },
    {
      "cell_type": "code",
      "source": [
        "marks.reverse()\n"
      ],
      "metadata": {
        "id": "tXyn2QyPSXch"
      },
      "execution_count": 184,
      "outputs": []
    },
    {
      "cell_type": "code",
      "source": [
        "marks"
      ],
      "metadata": {
        "colab": {
          "base_uri": "https://localhost:8080/"
        },
        "id": "5okxbvWnSiDh",
        "outputId": "869e4da3-5fa7-4988-abf7-2c20c610676c"
      },
      "execution_count": 185,
      "outputs": [
        {
          "output_type": "execute_result",
          "data": {
            "text/plain": [
              "[25, 85, 80, 78, 70, 60, 55, 40]"
            ]
          },
          "metadata": {},
          "execution_count": 185
        }
      ]
    },
    {
      "cell_type": "code",
      "source": [
        "marks2=[42,64,50,78,87,80] #sort in descending order when reverse=True"
      ],
      "metadata": {
        "id": "Pl4UVL3JUcVc"
      },
      "execution_count": 186,
      "outputs": []
    },
    {
      "cell_type": "code",
      "source": [
        "marks2.sort(reverse=True) ########### rong ans\n",
        "marks"
      ],
      "metadata": {
        "colab": {
          "base_uri": "https://localhost:8080/"
        },
        "id": "eMtWxoynXcKS",
        "outputId": "ad84496e-86f8-4199-b1d3-50b9a3758128"
      },
      "execution_count": 187,
      "outputs": [
        {
          "output_type": "execute_result",
          "data": {
            "text/plain": [
              "[25, 85, 80, 78, 70, 60, 55, 40]"
            ]
          },
          "metadata": {},
          "execution_count": 187
        }
      ]
    },
    {
      "cell_type": "code",
      "source": [
        "marks3=[40,50,60,70,80,85]\n",
        "marks3.sort(reverse=False)"
      ],
      "metadata": {
        "id": "MTzbuBZwX2y9"
      },
      "execution_count": 188,
      "outputs": []
    },
    {
      "cell_type": "code",
      "source": [
        "marks3\n"
      ],
      "metadata": {
        "colab": {
          "base_uri": "https://localhost:8080/"
        },
        "id": "ktbj5kmeYa9b",
        "outputId": "6827d6f0-383e-42b5-ffa7-6ded15065555"
      },
      "execution_count": 189,
      "outputs": [
        {
          "output_type": "execute_result",
          "data": {
            "text/plain": [
              "[40, 50, 60, 70, 80, 85]"
            ]
          },
          "metadata": {},
          "execution_count": 189
        }
      ]
    },
    {
      "cell_type": "code",
      "source": [
        "marks"
      ],
      "metadata": {
        "colab": {
          "base_uri": "https://localhost:8080/"
        },
        "id": "010jKpmxYfYn",
        "outputId": "8aa6b656-3bea-49c9-d907-931aa1c68dbb"
      },
      "execution_count": 190,
      "outputs": [
        {
          "output_type": "execute_result",
          "data": {
            "text/plain": [
              "[25, 85, 80, 78, 70, 60, 55, 40]"
            ]
          },
          "metadata": {},
          "execution_count": 190
        }
      ]
    },
    {
      "cell_type": "code",
      "source": [
        "90 in marks # checks whether 90 is present in list or not."
      ],
      "metadata": {
        "colab": {
          "base_uri": "https://localhost:8080/"
        },
        "id": "GNXHO7fQY5iv",
        "outputId": "d670ca80-1b3b-466b-d044-cc5e1eeecef5"
      },
      "execution_count": 191,
      "outputs": [
        {
          "output_type": "execute_result",
          "data": {
            "text/plain": [
              "False"
            ]
          },
          "metadata": {},
          "execution_count": 191
        }
      ]
    },
    {
      "cell_type": "code",
      "source": [
        "85 in marks"
      ],
      "metadata": {
        "colab": {
          "base_uri": "https://localhost:8080/"
        },
        "id": "WIc3JbqqZbDP",
        "outputId": "011969f3-7c77-446d-9a0a-970481e79b7c"
      },
      "execution_count": 192,
      "outputs": [
        {
          "output_type": "execute_result",
          "data": {
            "text/plain": [
              "True"
            ]
          },
          "metadata": {},
          "execution_count": 192
        }
      ]
    },
    {
      "cell_type": "code",
      "source": [
        "list1=[10,20,30]\n",
        "list2=[40,50,60]  #concatenation of two lists\n",
        "list1 +list2"
      ],
      "metadata": {
        "colab": {
          "base_uri": "https://localhost:8080/"
        },
        "id": "lcS2Hc7-ZiIv",
        "outputId": "1e878c1d-17d7-4c92-ed70-747dee412217"
      },
      "execution_count": 193,
      "outputs": [
        {
          "output_type": "execute_result",
          "data": {
            "text/plain": [
              "[10, 20, 30, 40, 50, 60]"
            ]
          },
          "metadata": {},
          "execution_count": 193
        }
      ]
    },
    {
      "cell_type": "code",
      "source": [
        "(list1 +list2)*3  # repeats 3 times"
      ],
      "metadata": {
        "colab": {
          "base_uri": "https://localhost:8080/"
        },
        "id": "6dzHYIqObM1T",
        "outputId": "4b63442f-5ff6-413f-f896-d7e04460d117"
      },
      "execution_count": 194,
      "outputs": [
        {
          "output_type": "execute_result",
          "data": {
            "text/plain": [
              "[10, 20, 30, 40, 50, 60, 10, 20, 30, 40, 50, 60, 10, 20, 30, 40, 50, 60]"
            ]
          },
          "metadata": {},
          "execution_count": 194
        }
      ]
    },
    {
      "cell_type": "code",
      "source": [
        "# List of String\n",
        "list3=[\"mango\",\"banana\",\"apple\",\"pineapple\",\"chiku\",\"orange\"]"
      ],
      "metadata": {
        "id": "KXrBLWv4bWzw"
      },
      "execution_count": 195,
      "outputs": []
    },
    {
      "cell_type": "code",
      "source": [
        "list3"
      ],
      "metadata": {
        "colab": {
          "base_uri": "https://localhost:8080/"
        },
        "id": "KIOzAWG8GZ39",
        "outputId": "116f9d64-368d-4610-b11e-8d2b8b16c463"
      },
      "execution_count": 196,
      "outputs": [
        {
          "output_type": "execute_result",
          "data": {
            "text/plain": [
              "['mango', 'banana', 'apple', 'pineapple', 'chiku', 'orange']"
            ]
          },
          "metadata": {},
          "execution_count": 196
        }
      ]
    },
    {
      "cell_type": "code",
      "source": [
        "# Display friuts by changing of all fruits to uppercase\n",
        "for fruits in list3:\n",
        "  print(fruits.upper()) # it print all element of list in upper case"
      ],
      "metadata": {
        "colab": {
          "base_uri": "https://localhost:8080/"
        },
        "id": "4nWsGSzFGd-m",
        "outputId": "279c7b9b-b6d2-44a4-9623-d92178b8612e"
      },
      "execution_count": 197,
      "outputs": [
        {
          "output_type": "stream",
          "name": "stdout",
          "text": [
            "MANGO\n",
            "BANANA\n",
            "APPLE\n",
            "PINEAPPLE\n",
            "CHIKU\n",
            "ORANGE\n"
          ]
        }
      ]
    },
    {
      "cell_type": "code",
      "source": [
        "for fruits in list3:\n",
        "  print(fruits.upper(),end=\" \") # its print all elemets in sigle line"
      ],
      "metadata": {
        "colab": {
          "base_uri": "https://localhost:8080/"
        },
        "id": "UM6h00c8GjWD",
        "outputId": "8c5ea02b-2c20-4c04-82bf-dc73fa6f0ad8"
      },
      "execution_count": 198,
      "outputs": [
        {
          "output_type": "stream",
          "name": "stdout",
          "text": [
            "MANGO BANANA APPLE PINEAPPLE CHIKU ORANGE "
          ]
        }
      ]
    },
    {
      "cell_type": "code",
      "source": [
        "for fruits in list3:\n",
        "  print(fruits.replace(\"u\",\"a\"),end=\" \") # it replace u by a in wherever it find u in list . ex in chiku it print chika 🤣"
      ],
      "metadata": {
        "colab": {
          "base_uri": "https://localhost:8080/"
        },
        "id": "LDE1OfjdGnKa",
        "outputId": "d91ebc42-0f25-4639-accb-92e5c7aa8bc7"
      },
      "execution_count": 199,
      "outputs": [
        {
          "output_type": "stream",
          "name": "stdout",
          "text": [
            "mango banana apple pineapple chika orange "
          ]
        }
      ]
    },
    {
      "cell_type": "code",
      "source": [
        "list3"
      ],
      "metadata": {
        "colab": {
          "base_uri": "https://localhost:8080/"
        },
        "id": "lByKpruPGqhe",
        "outputId": "432f9264-8b12-439c-b01f-7938a059939a"
      },
      "execution_count": 200,
      "outputs": [
        {
          "output_type": "execute_result",
          "data": {
            "text/plain": [
              "['mango', 'banana', 'apple', 'pineapple', 'chiku', 'orange']"
            ]
          },
          "metadata": {},
          "execution_count": 200
        }
      ]
    },
    {
      "cell_type": "code",
      "source": [
        "list3[0] # it print the element that is present on index number 0"
      ],
      "metadata": {
        "colab": {
          "base_uri": "https://localhost:8080/",
          "height": 35
        },
        "id": "UjkjxwdaGtPE",
        "outputId": "d671dbed-4096-48c3-a5d9-f5a61eb12102"
      },
      "execution_count": 201,
      "outputs": [
        {
          "output_type": "execute_result",
          "data": {
            "text/plain": [
              "'mango'"
            ],
            "application/vnd.google.colaboratory.intrinsic+json": {
              "type": "string"
            }
          },
          "metadata": {},
          "execution_count": 201
        }
      ]
    },
    {
      "cell_type": "code",
      "source": [
        "list3[5]"
      ],
      "metadata": {
        "colab": {
          "base_uri": "https://localhost:8080/",
          "height": 35
        },
        "id": "97Adk7fPGwv3",
        "outputId": "5c4bfb4e-8e52-43c2-d11e-0a0f0ab50cb4"
      },
      "execution_count": 202,
      "outputs": [
        {
          "output_type": "execute_result",
          "data": {
            "text/plain": [
              "'orange'"
            ],
            "application/vnd.google.colaboratory.intrinsic+json": {
              "type": "string"
            }
          },
          "metadata": {},
          "execution_count": 202
        }
      ]
    },
    {
      "cell_type": "code",
      "source": [
        "list3.count(\"pineapple\") # count() function check how many time that element comes in list"
      ],
      "metadata": {
        "colab": {
          "base_uri": "https://localhost:8080/"
        },
        "id": "o2xBgUMaG1AY",
        "outputId": "0c581a2a-f835-4ac7-8008-8f15b254aa59"
      },
      "execution_count": 203,
      "outputs": [
        {
          "output_type": "execute_result",
          "data": {
            "text/plain": [
              "1"
            ]
          },
          "metadata": {},
          "execution_count": 203
        }
      ]
    },
    {
      "cell_type": "code",
      "source": [
        "# slicing\n",
        "list3[0:4] # its print all element from index 0 to 4"
      ],
      "metadata": {
        "colab": {
          "base_uri": "https://localhost:8080/"
        },
        "id": "kk94hw_sHEnK",
        "outputId": "bcc9cb13-27ac-4062-ed50-baf152ee5c36"
      },
      "execution_count": 204,
      "outputs": [
        {
          "output_type": "execute_result",
          "data": {
            "text/plain": [
              "['mango', 'banana', 'apple', 'pineapple']"
            ]
          },
          "metadata": {},
          "execution_count": 204
        }
      ]
    },
    {
      "cell_type": "code",
      "source": [
        "list3[1:] # its print element from index 1 to at the last"
      ],
      "metadata": {
        "colab": {
          "base_uri": "https://localhost:8080/"
        },
        "id": "hahTba09HJxH",
        "outputId": "db52cb6c-b9f7-4334-f9a9-13cc2182307e"
      },
      "execution_count": 205,
      "outputs": [
        {
          "output_type": "execute_result",
          "data": {
            "text/plain": [
              "['banana', 'apple', 'pineapple', 'chiku', 'orange']"
            ]
          },
          "metadata": {},
          "execution_count": 205
        }
      ]
    },
    {
      "cell_type": "code",
      "source": [
        "list3[:4] # print from 0 to 4"
      ],
      "metadata": {
        "colab": {
          "base_uri": "https://localhost:8080/"
        },
        "id": "aqB9kKFVHW5Y",
        "outputId": "bcca39c9-e1b0-47de-f323-ee26beb33ae9"
      },
      "execution_count": 206,
      "outputs": [
        {
          "output_type": "execute_result",
          "data": {
            "text/plain": [
              "['mango', 'banana', 'apple', 'pineapple']"
            ]
          },
          "metadata": {},
          "execution_count": 206
        }
      ]
    },
    {
      "cell_type": "code",
      "source": [
        "# negative indexing: -1 refers to last element"
      ],
      "metadata": {
        "id": "Kz5wgWNTHZPh"
      },
      "execution_count": 207,
      "outputs": []
    },
    {
      "cell_type": "code",
      "source": [
        "list3[-1] # it print last element of list"
      ],
      "metadata": {
        "colab": {
          "base_uri": "https://localhost:8080/",
          "height": 35
        },
        "id": "2DOGv3jtHcEE",
        "outputId": "f81c2fc9-1147-4787-e99e-37bb310ca8ae"
      },
      "execution_count": 208,
      "outputs": [
        {
          "output_type": "execute_result",
          "data": {
            "text/plain": [
              "'orange'"
            ],
            "application/vnd.google.colaboratory.intrinsic+json": {
              "type": "string"
            }
          },
          "metadata": {},
          "execution_count": 208
        }
      ]
    },
    {
      "cell_type": "code",
      "source": [
        "list3[-3] # its print 3rd last element of list"
      ],
      "metadata": {
        "colab": {
          "base_uri": "https://localhost:8080/",
          "height": 35
        },
        "id": "cwQhD9FjHgC5",
        "outputId": "2f285553-c272-4809-db25-78587ef2852a"
      },
      "execution_count": 209,
      "outputs": [
        {
          "output_type": "execute_result",
          "data": {
            "text/plain": [
              "'pineapple'"
            ],
            "application/vnd.google.colaboratory.intrinsic+json": {
              "type": "string"
            }
          },
          "metadata": {},
          "execution_count": 209
        }
      ]
    },
    {
      "cell_type": "code",
      "source": [
        "# start stop and step/incre/decre in slicing"
      ],
      "metadata": {
        "id": "m-uOJFgvHlIV"
      },
      "execution_count": 210,
      "outputs": []
    },
    {
      "cell_type": "code",
      "source": [
        "print(list3)\n",
        "list3[::2]# 0,2,4,6 its increse every index value by 2 and print element [::2] mean its start from 0 end at the last and increse by 2"
      ],
      "metadata": {
        "colab": {
          "base_uri": "https://localhost:8080/"
        },
        "id": "05WFla6uHmmr",
        "outputId": "2c57cbd7-c693-4b2b-ad5f-69eb4a4a70c4"
      },
      "execution_count": 211,
      "outputs": [
        {
          "output_type": "stream",
          "name": "stdout",
          "text": [
            "['mango', 'banana', 'apple', 'pineapple', 'chiku', 'orange']\n"
          ]
        },
        {
          "output_type": "execute_result",
          "data": {
            "text/plain": [
              "['mango', 'apple', 'chiku']"
            ]
          },
          "metadata": {},
          "execution_count": 211
        }
      ]
    },
    {
      "cell_type": "code",
      "source": [
        "# to create list from 1 to 30"
      ],
      "metadata": {
        "id": "sAMZB7BwHuFh"
      },
      "execution_count": 212,
      "outputs": []
    },
    {
      "cell_type": "code",
      "source": [
        "n1=list(range(1,31)) # it is create a list from range start from 1 to 30"
      ],
      "metadata": {
        "id": "Yv1DKKZnHzBZ"
      },
      "execution_count": 213,
      "outputs": []
    },
    {
      "cell_type": "code",
      "source": [
        "print(n1,end=\" \")"
      ],
      "metadata": {
        "colab": {
          "base_uri": "https://localhost:8080/"
        },
        "id": "mVjrgbUFH4ao",
        "outputId": "5e886324-bd2f-4ce4-a884-643f7e86da97"
      },
      "execution_count": 214,
      "outputs": [
        {
          "output_type": "stream",
          "name": "stdout",
          "text": [
            "[1, 2, 3, 4, 5, 6, 7, 8, 9, 10, 11, 12, 13, 14, 15, 16, 17, 18, 19, 20, 21, 22, 23, 24, 25, 26, 27, 28, 29, 30] "
          ]
        }
      ]
    },
    {
      "cell_type": "code",
      "source": [
        "n1[::4]"
      ],
      "metadata": {
        "colab": {
          "base_uri": "https://localhost:8080/"
        },
        "id": "2qV_Wr0OH6yG",
        "outputId": "dbf1eed1-bc20-44a4-8217-a4ec779077e8"
      },
      "execution_count": 215,
      "outputs": [
        {
          "output_type": "execute_result",
          "data": {
            "text/plain": [
              "[1, 5, 9, 13, 17, 21, 25, 29]"
            ]
          },
          "metadata": {},
          "execution_count": 215
        }
      ]
    },
    {
      "cell_type": "code",
      "source": [
        "# print numbers from index 2 to 26 with step / incrase value of 5\n",
        "n1[2:27:5]"
      ],
      "metadata": {
        "colab": {
          "base_uri": "https://localhost:8080/"
        },
        "id": "eMgbxgx5IC_1",
        "outputId": "c025d3bf-239e-4d01-fa42-f6fdff7f531e"
      },
      "execution_count": 216,
      "outputs": [
        {
          "output_type": "execute_result",
          "data": {
            "text/plain": [
              "[3, 8, 13, 18, 23]"
            ]
          },
          "metadata": {},
          "execution_count": 216
        }
      ]
    },
    {
      "cell_type": "code",
      "source": [
        "print(list3,end=' ')"
      ],
      "metadata": {
        "colab": {
          "base_uri": "https://localhost:8080/"
        },
        "id": "HD_Km81iIGXC",
        "outputId": "98632d1b-1c5c-4558-f3a7-fee95c71ead0"
      },
      "execution_count": 217,
      "outputs": [
        {
          "output_type": "stream",
          "name": "stdout",
          "text": [
            "['mango', 'banana', 'apple', 'pineapple', 'chiku', 'orange'] "
          ]
        }
      ]
    },
    {
      "cell_type": "code",
      "source": [
        "list3[::-1]"
      ],
      "metadata": {
        "colab": {
          "base_uri": "https://localhost:8080/"
        },
        "id": "JON3yfOvIKfE",
        "outputId": "e97f7c03-44d6-42ab-8ef0-b72b71dee552"
      },
      "execution_count": 218,
      "outputs": [
        {
          "output_type": "execute_result",
          "data": {
            "text/plain": [
              "['orange', 'chiku', 'pineapple', 'apple', 'banana', 'mango']"
            ]
          },
          "metadata": {},
          "execution_count": 218
        }
      ]
    },
    {
      "cell_type": "code",
      "source": [
        "list3[::-2]"
      ],
      "metadata": {
        "colab": {
          "base_uri": "https://localhost:8080/"
        },
        "id": "SwIEd4LmIMkd",
        "outputId": "bf7766fb-f73c-4b0e-92ec-41193a37d3af"
      },
      "execution_count": 219,
      "outputs": [
        {
          "output_type": "execute_result",
          "data": {
            "text/plain": [
              "['orange', 'pineapple', 'banana']"
            ]
          },
          "metadata": {},
          "execution_count": 219
        }
      ]
    },
    {
      "cell_type": "code",
      "source": [
        "# use of \" in \" keyword : search substring  in given word\n",
        "\"the\" in \"netherland\" # its check \"the\" is present in \"netherland\" word or not"
      ],
      "metadata": {
        "colab": {
          "base_uri": "https://localhost:8080/"
        },
        "id": "k_rcG-9qIOb8",
        "outputId": "0b19a3ed-0f08-4ba1-e3d0-7eac84d6f880"
      },
      "execution_count": 220,
      "outputs": [
        {
          "output_type": "execute_result",
          "data": {
            "text/plain": [
              "True"
            ]
          },
          "metadata": {},
          "execution_count": 220
        }
      ]
    },
    {
      "cell_type": "code",
      "source": [
        "\"The\" in \"netherland\""
      ],
      "metadata": {
        "colab": {
          "base_uri": "https://localhost:8080/"
        },
        "id": "eLeFgmxUISrJ",
        "outputId": "75d7345a-e8d2-4226-9772-0f6382f18730"
      },
      "execution_count": 221,
      "outputs": [
        {
          "output_type": "execute_result",
          "data": {
            "text/plain": [
              "False"
            ]
          },
          "metadata": {},
          "execution_count": 221
        }
      ]
    },
    {
      "cell_type": "code",
      "source": [
        "\"The\" in \"netherland\"\n"
      ],
      "metadata": {
        "id": "_tX0cND7IV11",
        "colab": {
          "base_uri": "https://localhost:8080/"
        },
        "outputId": "d0955e48-8372-4cc7-b400-ba4859f92812"
      },
      "execution_count": 222,
      "outputs": [
        {
          "output_type": "execute_result",
          "data": {
            "text/plain": [
              "False"
            ]
          },
          "metadata": {},
          "execution_count": 222
        }
      ]
    },
    {
      "cell_type": "code",
      "source": [
        "list3.append(\"oos\") # its add mentioned element in the list at the end\n",
        "list3"
      ],
      "metadata": {
        "colab": {
          "base_uri": "https://localhost:8080/"
        },
        "id": "lnuas6QDYJdU",
        "outputId": "a604ecf5-8acd-47fd-9fb3-0d6961dc9867"
      },
      "execution_count": 223,
      "outputs": [
        {
          "output_type": "execute_result",
          "data": {
            "text/plain": [
              "['mango', 'banana', 'apple', 'pineapple', 'chiku', 'orange', 'oos']"
            ]
          },
          "metadata": {},
          "execution_count": 223
        }
      ]
    },
    {
      "cell_type": "code",
      "source": [
        "list3.remove(\"oos\") # its remove mentioned element\n",
        "list3"
      ],
      "metadata": {
        "colab": {
          "base_uri": "https://localhost:8080/"
        },
        "id": "HvFnYABNYQeX",
        "outputId": "41be1652-cd0e-49b6-eebf-c538113bfbde"
      },
      "execution_count": 224,
      "outputs": [
        {
          "output_type": "execute_result",
          "data": {
            "text/plain": [
              "['mango', 'banana', 'apple', 'pineapple', 'chiku', 'orange']"
            ]
          },
          "metadata": {},
          "execution_count": 224
        }
      ]
    },
    {
      "cell_type": "code",
      "source": [
        "list3.remove(\"chiku\")"
      ],
      "metadata": {
        "id": "5F3bvZ_gYT9Q"
      },
      "execution_count": 225,
      "outputs": []
    },
    {
      "cell_type": "code",
      "source": [
        "# display fruits which contain substring \"berry\" using for loop\n",
        "for fruits in list3:\n",
        "  if \"berry\" in fruits:\n",
        "    print(fruits)"
      ],
      "metadata": {
        "id": "Q_WiG5OLYYx6"
      },
      "execution_count": 226,
      "outputs": []
    },
    {
      "cell_type": "code",
      "source": [
        "# display fruits which contain substring \"ppl\" using for loop\n",
        "for fruits in list3:\n",
        "  if \"ppl\" in fruits:\n",
        "    print(fruits)"
      ],
      "metadata": {
        "colab": {
          "base_uri": "https://localhost:8080/"
        },
        "id": "IvM3yK9ZYcsC",
        "outputId": "45406ba7-63bc-40f7-9a35-80a847687419"
      },
      "execution_count": 227,
      "outputs": [
        {
          "output_type": "stream",
          "name": "stdout",
          "text": [
            "apple\n",
            "pineapple\n"
          ]
        }
      ]
    },
    {
      "cell_type": "code",
      "source": [
        "list3"
      ],
      "metadata": {
        "colab": {
          "base_uri": "https://localhost:8080/"
        },
        "id": "HNtkYgyhYhB5",
        "outputId": "c4d3d3f5-27c8-40e4-d80d-e62b767681f4"
      },
      "execution_count": 228,
      "outputs": [
        {
          "output_type": "execute_result",
          "data": {
            "text/plain": [
              "['mango', 'banana', 'apple', 'pineapple', 'orange']"
            ]
          },
          "metadata": {},
          "execution_count": 228
        }
      ]
    },
    {
      "cell_type": "code",
      "source": [
        "# crate list4 of fruits from list3 having only berry as substring and store\n",
        "list4=[]\n",
        "list5=[]\n",
        "\n",
        "for fruits in list3:\n",
        "  if 'berry' in fruits:\n",
        "    list4.append(fruits)\n",
        "  else:\n",
        "    list5.append(fruits)\n",
        "print(list4,end=\" \")\n",
        "print(\" \")\n",
        "print(list5)"
      ],
      "metadata": {
        "colab": {
          "base_uri": "https://localhost:8080/"
        },
        "id": "PnT1l1cpYjlP",
        "outputId": "61d6dc9b-802b-4328-e7bf-d54ad42cf7d5"
      },
      "execution_count": 229,
      "outputs": [
        {
          "output_type": "stream",
          "name": "stdout",
          "text": [
            "[]  \n",
            "['mango', 'banana', 'apple', 'pineapple', 'orange']\n"
          ]
        }
      ]
    },
    {
      "cell_type": "code",
      "source": [
        "#print squares of all numbers of list1 to list2"
      ],
      "metadata": {
        "id": "Mk_oeMqBYwxr"
      },
      "execution_count": 230,
      "outputs": []
    },
    {
      "cell_type": "code",
      "source": [
        "list1=[2,3,4,5,6]\n",
        "list2=[]\n",
        "for i in list1:\n",
        "  list2.append(i**2) # or list2.append(i*i)\n",
        "print(list1,end=\" \")\n",
        "print(list2)"
      ],
      "metadata": {
        "colab": {
          "base_uri": "https://localhost:8080/"
        },
        "id": "c730YgxKY0nQ",
        "outputId": "6efef850-a1bc-4d4b-8dea-258778fb97db"
      },
      "execution_count": 231,
      "outputs": [
        {
          "output_type": "stream",
          "name": "stdout",
          "text": [
            "[2, 3, 4, 5, 6] [4, 9, 16, 25, 36]\n"
          ]
        }
      ]
    },
    {
      "cell_type": "code",
      "source": [
        "# List comprehension - makes your code compact\n",
        "l1=[2,3,4,5,6]\n",
        "l2=[i**2 for i in l1]\n",
        "print(l1,end=\" \")\n",
        "print(l2)"
      ],
      "metadata": {
        "colab": {
          "base_uri": "https://localhost:8080/"
        },
        "id": "YyYzs3tHY4dV",
        "outputId": "3e267348-b22c-4584-872e-a1d0baad852d"
      },
      "execution_count": 232,
      "outputs": [
        {
          "output_type": "stream",
          "name": "stdout",
          "text": [
            "[2, 3, 4, 5, 6] [4, 9, 16, 25, 36]\n"
          ]
        }
      ]
    },
    {
      "cell_type": "code",
      "source": [
        "list3"
      ],
      "metadata": {
        "colab": {
          "base_uri": "https://localhost:8080/"
        },
        "id": "ko9cYEu-Y8wI",
        "outputId": "dc1b8773-960d-439f-f05a-4c1be97b8af5"
      },
      "execution_count": 233,
      "outputs": [
        {
          "output_type": "execute_result",
          "data": {
            "text/plain": [
              "['mango', 'banana', 'apple', 'pineapple', 'orange']"
            ]
          },
          "metadata": {},
          "execution_count": 233
        }
      ]
    },
    {
      "cell_type": "code",
      "source": [
        "newlist=[fruit for fruit in list3 if 'berry' in fruit] # it check berry in fruit if it is present then it store in newlist\n",
        "print(newlist,end=\" \")"
      ],
      "metadata": {
        "colab": {
          "base_uri": "https://localhost:8080/"
        },
        "id": "cVBlTSjeY_mw",
        "outputId": "c189e4b0-a0bb-476b-a2fd-0a3f927a34f7"
      },
      "execution_count": 234,
      "outputs": [
        {
          "output_type": "stream",
          "name": "stdout",
          "text": [
            "[] "
          ]
        }
      ]
    },
    {
      "cell_type": "code",
      "source": [
        "newlist1=[fruit for fruit in list3 if 'berry' not in fruit] # it check berry not in fruit if it is not present in it store in newlist1.\n",
        "print(newlist1,end=\" \")                                     # except berry all elements store in newlist1"
      ],
      "metadata": {
        "colab": {
          "base_uri": "https://localhost:8080/"
        },
        "id": "tTjjbekzZFXs",
        "outputId": "fa2a22af-ac42-4fde-a958-8aae4186ade9"
      },
      "execution_count": 235,
      "outputs": [
        {
          "output_type": "stream",
          "name": "stdout",
          "text": [
            "['mango', 'banana', 'apple', 'pineapple', 'orange'] "
          ]
        }
      ]
    },
    {
      "cell_type": "code",
      "source": [
        "list3"
      ],
      "metadata": {
        "colab": {
          "base_uri": "https://localhost:8080/"
        },
        "id": "cxsREFsqZKVD",
        "outputId": "33749f2b-b5f5-44bb-c0dc-69a3bd3e060d"
      },
      "execution_count": 236,
      "outputs": [
        {
          "output_type": "execute_result",
          "data": {
            "text/plain": [
              "['mango', 'banana', 'apple', 'pineapple', 'orange']"
            ]
          },
          "metadata": {},
          "execution_count": 236
        }
      ]
    },
    {
      "cell_type": "code",
      "source": [
        "list3.index(\"mango\")"
      ],
      "metadata": {
        "colab": {
          "base_uri": "https://localhost:8080/"
        },
        "id": "-roruDzQZONt",
        "outputId": "736f2fc7-883b-4d38-9ea3-15832c6f3d62"
      },
      "execution_count": 237,
      "outputs": [
        {
          "output_type": "execute_result",
          "data": {
            "text/plain": [
              "0"
            ]
          },
          "metadata": {},
          "execution_count": 237
        }
      ]
    },
    {
      "cell_type": "code",
      "source": [
        "list3.index(\"apple\")"
      ],
      "metadata": {
        "colab": {
          "base_uri": "https://localhost:8080/"
        },
        "id": "ZUGmz2ZLZWVw",
        "outputId": "273a4f54-3e15-47a3-8b08-d3df909a3f86"
      },
      "execution_count": 238,
      "outputs": [
        {
          "output_type": "execute_result",
          "data": {
            "text/plain": [
              "2"
            ]
          },
          "metadata": {},
          "execution_count": 238
        }
      ]
    },
    {
      "cell_type": "code",
      "source": [
        "list3[2]=\"Black berry\"\n",
        "list3"
      ],
      "metadata": {
        "colab": {
          "base_uri": "https://localhost:8080/"
        },
        "id": "kWzGZBrYZcWa",
        "outputId": "49e3009d-de2e-4c0d-da77-48de6f2cbefc"
      },
      "execution_count": 239,
      "outputs": [
        {
          "output_type": "execute_result",
          "data": {
            "text/plain": [
              "['mango', 'banana', 'Black berry', 'pineapple', 'orange']"
            ]
          },
          "metadata": {},
          "execution_count": 239
        }
      ]
    },
    {
      "cell_type": "code",
      "source": [
        "# Data structure :Tuples\n",
        "# Tuples are not mutable i.e immutable\n",
        "# created using round brackets / paranthesis ()"
      ],
      "metadata": {
        "id": "3X9f5XWLZl20"
      },
      "execution_count": 240,
      "outputs": []
    },
    {
      "cell_type": "code",
      "source": [
        "t1=(1,2,3,4,5) # tuple\n",
        "t1"
      ],
      "metadata": {
        "colab": {
          "base_uri": "https://localhost:8080/"
        },
        "id": "fx3aJzd8ZpON",
        "outputId": "02043c4c-a0af-4118-b5b8-f7fa64d56549"
      },
      "execution_count": 241,
      "outputs": [
        {
          "output_type": "execute_result",
          "data": {
            "text/plain": [
              "(1, 2, 3, 4, 5)"
            ]
          },
          "metadata": {},
          "execution_count": 241
        }
      ]
    },
    {
      "cell_type": "code",
      "source": [
        "type(t1) # checking type of tuple"
      ],
      "metadata": {
        "colab": {
          "base_uri": "https://localhost:8080/"
        },
        "id": "PARWt64JZr_K",
        "outputId": "279178ad-2aaf-4357-a834-ba9b107d598e"
      },
      "execution_count": 242,
      "outputs": [
        {
          "output_type": "execute_result",
          "data": {
            "text/plain": [
              "tuple"
            ]
          },
          "metadata": {},
          "execution_count": 242
        }
      ]
    },
    {
      "cell_type": "code",
      "source": [
        "t1[0] # checking element through index number . checking index number 0 and at the index 0 the number present 1"
      ],
      "metadata": {
        "colab": {
          "base_uri": "https://localhost:8080/"
        },
        "id": "CtFmxJskZu-T",
        "outputId": "0aeebe42-9055-411b-ddae-a5f7438dea5e"
      },
      "execution_count": 243,
      "outputs": [
        {
          "output_type": "execute_result",
          "data": {
            "text/plain": [
              "1"
            ]
          },
          "metadata": {},
          "execution_count": 243
        }
      ]
    },
    {
      "cell_type": "code",
      "source": [
        "t3=t1+(6,7,8,9,10) # Add tuple t1 and t3\n",
        "t3"
      ],
      "metadata": {
        "colab": {
          "base_uri": "https://localhost:8080/"
        },
        "id": "6KgmEsNaZ5CH",
        "outputId": "218b1c7b-b5cf-4b7b-d9f0-59433f73adf1"
      },
      "execution_count": 244,
      "outputs": [
        {
          "output_type": "execute_result",
          "data": {
            "text/plain": [
              "(1, 2, 3, 4, 5, 6, 7, 8, 9, 10)"
            ]
          },
          "metadata": {},
          "execution_count": 244
        }
      ]
    },
    {
      "cell_type": "code",
      "source": [
        "dir(t1) # it show how many function we can use on tuple"
      ],
      "metadata": {
        "colab": {
          "base_uri": "https://localhost:8080/"
        },
        "id": "XqzZiVIYaESv",
        "outputId": "583cb1bf-d4fa-4823-87dd-68503658da5e"
      },
      "execution_count": 245,
      "outputs": [
        {
          "output_type": "execute_result",
          "data": {
            "text/plain": [
              "['__add__',\n",
              " '__class__',\n",
              " '__class_getitem__',\n",
              " '__contains__',\n",
              " '__delattr__',\n",
              " '__dir__',\n",
              " '__doc__',\n",
              " '__eq__',\n",
              " '__format__',\n",
              " '__ge__',\n",
              " '__getattribute__',\n",
              " '__getitem__',\n",
              " '__getnewargs__',\n",
              " '__gt__',\n",
              " '__hash__',\n",
              " '__init__',\n",
              " '__init_subclass__',\n",
              " '__iter__',\n",
              " '__le__',\n",
              " '__len__',\n",
              " '__lt__',\n",
              " '__mul__',\n",
              " '__ne__',\n",
              " '__new__',\n",
              " '__reduce__',\n",
              " '__reduce_ex__',\n",
              " '__repr__',\n",
              " '__rmul__',\n",
              " '__setattr__',\n",
              " '__sizeof__',\n",
              " '__str__',\n",
              " '__subclasshook__',\n",
              " 'count',\n",
              " 'index']"
            ]
          },
          "metadata": {},
          "execution_count": 245
        }
      ]
    },
    {
      "cell_type": "code",
      "source": [
        "t1.count(1) # in bracket we have passed an element of tuple (not the index) . it check how many time mentioned number present in your tuple"
      ],
      "metadata": {
        "colab": {
          "base_uri": "https://localhost:8080/"
        },
        "id": "fP3gELnYaIAC",
        "outputId": "82847019-5381-4f9f-e6ac-3f76765fbebe"
      },
      "execution_count": 246,
      "outputs": [
        {
          "output_type": "execute_result",
          "data": {
            "text/plain": [
              "1"
            ]
          },
          "metadata": {},
          "execution_count": 246
        }
      ]
    },
    {
      "cell_type": "code",
      "source": [
        "t1.index(4) # it check what is the index of mention number .here it check what is index of number 4 and it index is 3\n",
        "\n"
      ],
      "metadata": {
        "colab": {
          "base_uri": "https://localhost:8080/"
        },
        "id": "DBh3o3xLaML5",
        "outputId": "6cb53f69-75f4-43e4-df26-fedcac39e2b0"
      },
      "execution_count": 247,
      "outputs": [
        {
          "output_type": "execute_result",
          "data": {
            "text/plain": [
              "3"
            ]
          },
          "metadata": {},
          "execution_count": 247
        }
      ]
    },
    {
      "cell_type": "code",
      "source": [
        "t2=(1,2,1,2,1,2,3,3,3,3)"
      ],
      "metadata": {
        "id": "VXIhkrB7aSq5"
      },
      "execution_count": 248,
      "outputs": []
    },
    {
      "cell_type": "code",
      "source": [
        "t2.count(1) # it check how many time 1 comes in tuple t2"
      ],
      "metadata": {
        "colab": {
          "base_uri": "https://localhost:8080/"
        },
        "id": "vlNSCJ4OaXtJ",
        "outputId": "7587f9a3-7a20-4a41-e7b5-beda47f8ca65"
      },
      "execution_count": 249,
      "outputs": [
        {
          "output_type": "execute_result",
          "data": {
            "text/plain": [
              "3"
            ]
          },
          "metadata": {},
          "execution_count": 249
        }
      ]
    },
    {
      "cell_type": "code",
      "source": [
        "# indexing and slicing with tuple is same as list\n",
        "# extracking elements of tuple\n",
        "t1[2] # it check which number is present on index number 2"
      ],
      "metadata": {
        "colab": {
          "base_uri": "https://localhost:8080/"
        },
        "id": "OekCgZBPaa7d",
        "outputId": "65ec95bf-e42a-4b78-843c-ade61e43c9b1"
      },
      "execution_count": 250,
      "outputs": [
        {
          "output_type": "execute_result",
          "data": {
            "text/plain": [
              "3"
            ]
          },
          "metadata": {},
          "execution_count": 250
        }
      ]
    },
    {
      "cell_type": "code",
      "source": [
        "t1"
      ],
      "metadata": {
        "id": "u5JsPZtOaew4",
        "colab": {
          "base_uri": "https://localhost:8080/"
        },
        "outputId": "b83f2091-818f-4eeb-876e-56bc6203f2e2"
      },
      "execution_count": 251,
      "outputs": [
        {
          "output_type": "execute_result",
          "data": {
            "text/plain": [
              "(1, 2, 3, 4, 5)"
            ]
          },
          "metadata": {},
          "execution_count": 251
        }
      ]
    },
    {
      "cell_type": "code",
      "source": [
        "t1[1:3] # it print number index number 1 to index number 2"
      ],
      "metadata": {
        "colab": {
          "base_uri": "https://localhost:8080/"
        },
        "id": "2XFWn1X6lD-b",
        "outputId": "7ffd892e-4f5a-4c3c-d3e4-265abc9e5312"
      },
      "execution_count": 252,
      "outputs": [
        {
          "output_type": "execute_result",
          "data": {
            "text/plain": [
              "(2, 3)"
            ]
          },
          "metadata": {},
          "execution_count": 252
        }
      ]
    },
    {
      "cell_type": "code",
      "source": [
        "t1[3:]"
      ],
      "metadata": {
        "colab": {
          "base_uri": "https://localhost:8080/"
        },
        "id": "FODyH60klIy2",
        "outputId": "4a4bfa79-f2c1-4236-f259-7bd6add27387"
      },
      "execution_count": 253,
      "outputs": [
        {
          "output_type": "execute_result",
          "data": {
            "text/plain": [
              "(4, 5)"
            ]
          },
          "metadata": {},
          "execution_count": 253
        }
      ]
    },
    {
      "cell_type": "code",
      "source": [
        "# Dictionary\n",
        "# dictionary are used to store data values in \"key:value pairs\".\n",
        "# it is collection of orderd , changeable and do not allow duplicates.\n",
        "# are written in {\"key:values\"}\n",
        "# key are unique  and isentifirs are associated with each value"
      ],
      "metadata": {
        "id": "TBVaIdeslNR2"
      },
      "execution_count": 254,
      "outputs": []
    },
    {
      "cell_type": "code",
      "source": [
        "capital_dict={\"nepal\":\"kathmandu\",\"itely\":\"rome\",\"england\":\"london\"} # its declaration and defination of dictionary in key value pairs\n",
        "print(capital_dict)"
      ],
      "metadata": {
        "colab": {
          "base_uri": "https://localhost:8080/"
        },
        "id": "TvK1E12IlSBj",
        "outputId": "541f7c8b-18ae-470e-9a96-386fa2730bb9"
      },
      "execution_count": 255,
      "outputs": [
        {
          "output_type": "stream",
          "name": "stdout",
          "text": [
            "{'nepal': 'kathmandu', 'itely': 'rome', 'england': 'london'}\n"
          ]
        }
      ]
    },
    {
      "cell_type": "code",
      "source": [
        "# access element of dictionary\n",
        "capital_dict[\"england\"] # use here box bracket. this is fetch value of england .beacause we mention key"
      ],
      "metadata": {
        "colab": {
          "base_uri": "https://localhost:8080/",
          "height": 35
        },
        "id": "chvQgf3LlV0P",
        "outputId": "5296d8ec-55a7-4324-a571-5e77dc6dc2ed"
      },
      "execution_count": 256,
      "outputs": [
        {
          "output_type": "execute_result",
          "data": {
            "text/plain": [
              "'london'"
            ],
            "application/vnd.google.colaboratory.intrinsic+json": {
              "type": "string"
            }
          },
          "metadata": {},
          "execution_count": 256
        }
      ]
    },
    {
      "cell_type": "code",
      "source": [
        "# keys() method  extract the key of the dictionary and returns the list of keys\n",
        "capital_dict.keys()"
      ],
      "metadata": {
        "colab": {
          "base_uri": "https://localhost:8080/"
        },
        "id": "p2IaQDp9lZi4",
        "outputId": "04779111-2e29-459d-fbd4-c71b9eba048b"
      },
      "execution_count": 257,
      "outputs": [
        {
          "output_type": "execute_result",
          "data": {
            "text/plain": [
              "dict_keys(['nepal', 'itely', 'england'])"
            ]
          },
          "metadata": {},
          "execution_count": 257
        }
      ]
    },
    {
      "cell_type": "code",
      "source": [
        "# values() method  retuens a view of object that displays a list of values\n",
        "capital_dict.values()"
      ],
      "metadata": {
        "colab": {
          "base_uri": "https://localhost:8080/"
        },
        "id": "Vyas6KZxldyC",
        "outputId": "b24846f8-6f56-424d-f641-b27621f0575c"
      },
      "execution_count": 258,
      "outputs": [
        {
          "output_type": "execute_result",
          "data": {
            "text/plain": [
              "dict_values(['kathmandu', 'rome', 'london'])"
            ]
          },
          "metadata": {},
          "execution_count": 258
        }
      ]
    },
    {
      "cell_type": "code",
      "source": [
        "# the items() method returns all the key value pairs\n",
        "capital_dict.items()"
      ],
      "metadata": {
        "colab": {
          "base_uri": "https://localhost:8080/"
        },
        "id": "CP6S8242lhdy",
        "outputId": "5bc3380a-285b-4af4-841a-c2db3ce2e5c2"
      },
      "execution_count": 259,
      "outputs": [
        {
          "output_type": "execute_result",
          "data": {
            "text/plain": [
              "dict_items([('nepal', 'kathmandu'), ('itely', 'rome'), ('england', 'london')])"
            ]
          },
          "metadata": {},
          "execution_count": 259
        }
      ]
    },
    {
      "cell_type": "code",
      "source": [
        "# the update() method updates the elements form other dictionary object\n",
        "add_capital={\"india\":\"new delhi\",\"abc\":\"xyz\"}\n",
        "capital_dict.update(add_capital) # adding value from add_capital dictionary to capital_dict"
      ],
      "metadata": {
        "id": "p1OvMvgvls8Y"
      },
      "execution_count": 260,
      "outputs": []
    },
    {
      "cell_type": "code",
      "source": [
        "capital_dict"
      ],
      "metadata": {
        "colab": {
          "base_uri": "https://localhost:8080/"
        },
        "id": "JjqtelQOlxaC",
        "outputId": "5413dcc1-fbaa-4cf0-c5ff-3a51fd65f049"
      },
      "execution_count": 261,
      "outputs": [
        {
          "output_type": "execute_result",
          "data": {
            "text/plain": [
              "{'nepal': 'kathmandu',\n",
              " 'itely': 'rome',\n",
              " 'england': 'london',\n",
              " 'india': 'new delhi',\n",
              " 'abc': 'xyz'}"
            ]
          },
          "metadata": {},
          "execution_count": 261
        }
      ]
    },
    {
      "cell_type": "code",
      "source": [
        "capital_dict.update({\"australia\":\"sydeny\"}) # using it we add mentioned key values to our present capital_dict dictionary\n",
        "capital_dict"
      ],
      "metadata": {
        "colab": {
          "base_uri": "https://localhost:8080/"
        },
        "id": "2w4a_G12l14v",
        "outputId": "eb438406-1ae2-4dfe-ac46-17b5f10e520f"
      },
      "execution_count": 262,
      "outputs": [
        {
          "output_type": "execute_result",
          "data": {
            "text/plain": [
              "{'nepal': 'kathmandu',\n",
              " 'itely': 'rome',\n",
              " 'england': 'london',\n",
              " 'india': 'new delhi',\n",
              " 'abc': 'xyz',\n",
              " 'australia': 'sydeny'}"
            ]
          },
          "metadata": {},
          "execution_count": 262
        }
      ]
    },
    {
      "cell_type": "code",
      "source": [
        "# the pop() method remove and returns an element from a dictionary having mentioned key\n",
        "capital_dict.pop(\"australia\") # its remove australia and there value"
      ],
      "metadata": {
        "colab": {
          "base_uri": "https://localhost:8080/",
          "height": 35
        },
        "id": "OphjKETvmCx_",
        "outputId": "3dcc6632-de50-41ad-de3d-c9da5622a52f"
      },
      "execution_count": 263,
      "outputs": [
        {
          "output_type": "execute_result",
          "data": {
            "text/plain": [
              "'sydeny'"
            ],
            "application/vnd.google.colaboratory.intrinsic+json": {
              "type": "string"
            }
          },
          "metadata": {},
          "execution_count": 263
        }
      ]
    },
    {
      "cell_type": "code",
      "source": [
        "capital_dict"
      ],
      "metadata": {
        "colab": {
          "base_uri": "https://localhost:8080/"
        },
        "id": "EHM5QYWKmIwc",
        "outputId": "95598e80-496a-4402-893b-e20015c1c68e"
      },
      "execution_count": 264,
      "outputs": [
        {
          "output_type": "execute_result",
          "data": {
            "text/plain": [
              "{'nepal': 'kathmandu',\n",
              " 'itely': 'rome',\n",
              " 'england': 'london',\n",
              " 'india': 'new delhi',\n",
              " 'abc': 'xyz'}"
            ]
          },
          "metadata": {},
          "execution_count": 264
        }
      ]
    },
    {
      "cell_type": "code",
      "source": [
        "capital_dict['abc']=(\"mumbai\") # here we change the value of key \"abc\""
      ],
      "metadata": {
        "id": "WpsvnTUGmK9D"
      },
      "execution_count": 265,
      "outputs": []
    },
    {
      "cell_type": "code",
      "source": [
        "capital_dict"
      ],
      "metadata": {
        "colab": {
          "base_uri": "https://localhost:8080/"
        },
        "id": "y1ygwu36mNXx",
        "outputId": "cd246e3b-7803-424b-b8ea-6148166892c0"
      },
      "execution_count": 266,
      "outputs": [
        {
          "output_type": "execute_result",
          "data": {
            "text/plain": [
              "{'nepal': 'kathmandu',\n",
              " 'itely': 'rome',\n",
              " 'england': 'london',\n",
              " 'india': 'new delhi',\n",
              " 'abc': 'mumbai'}"
            ]
          },
          "metadata": {},
          "execution_count": 266
        }
      ]
    },
    {
      "cell_type": "code",
      "source": [
        "capital_dict.popitem() # popitem() method its remove last key and value"
      ],
      "metadata": {
        "colab": {
          "base_uri": "https://localhost:8080/"
        },
        "id": "cvV7bb5jmQ3C",
        "outputId": "f05664f2-53f9-4314-ccbb-ef75c2e5a14a"
      },
      "execution_count": 267,
      "outputs": [
        {
          "output_type": "execute_result",
          "data": {
            "text/plain": [
              "('abc', 'mumbai')"
            ]
          },
          "metadata": {},
          "execution_count": 267
        }
      ]
    },
    {
      "cell_type": "code",
      "source": [
        "# values can be of diffrent data type\n",
        "mylist=[\"mango\",\"banana\",\"orange\",\"chiku\",\"sweet potato\"]\n",
        "mytuple=(20,53,45,78,55)"
      ],
      "metadata": {
        "id": "Ns_LXFvomU5v"
      },
      "execution_count": 268,
      "outputs": []
    },
    {
      "cell_type": "code",
      "source": [
        "mydict={\"A\":mylist,\n",
        "        \"B\":mytuple,\n",
        "        \"C\":capital_dict }"
      ],
      "metadata": {
        "id": "TgyenumDmXaC"
      },
      "execution_count": 269,
      "outputs": []
    },
    {
      "cell_type": "code",
      "source": [
        "mydict"
      ],
      "metadata": {
        "colab": {
          "base_uri": "https://localhost:8080/"
        },
        "id": "esRnl7RimbNp",
        "outputId": "5d630ba2-4c8e-4a90-b393-b2f443b7e233"
      },
      "execution_count": 270,
      "outputs": [
        {
          "output_type": "execute_result",
          "data": {
            "text/plain": [
              "{'A': ['mango', 'banana', 'orange', 'chiku', 'sweet potato'],\n",
              " 'B': (20, 53, 45, 78, 55),\n",
              " 'C': {'nepal': 'kathmandu',\n",
              "  'itely': 'rome',\n",
              "  'england': 'london',\n",
              "  'india': 'new delhi'}}"
            ]
          },
          "metadata": {},
          "execution_count": 270
        }
      ]
    },
    {
      "cell_type": "code",
      "source": [],
      "metadata": {
        "id": "uPQg5t6fmd7t"
      },
      "execution_count": 270,
      "outputs": []
    }
  ]
}